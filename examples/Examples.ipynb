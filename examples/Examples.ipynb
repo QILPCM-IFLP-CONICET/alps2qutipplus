{
 "cells": [
  {
   "cell_type": "code",
   "execution_count": 1,
   "id": "0b611f6d",
   "metadata": {},
   "outputs": [],
   "source": [
    "import matplotlib.pyplot as plt\n",
    "from alpsqutip.geometry import graph_from_alps_xml, list_graph_in_alps_xml\n",
    "from alpsqutip.alpsmodels import list_operators_in_alps_xml,model_from_alps_xml\n",
    "from alpsqutip.utils import eval_expr\n",
    "\n",
    "from alpsqutip.model import SystemDescriptor\n",
    "\n",
    "models_lib_file = \"../alpsqutip/lib/models.xml\"\n",
    "lattice_lib_file = \"../alpsqutip/lib/lattices.xml\""
   ]
  },
  {
   "cell_type": "code",
   "execution_count": 2,
   "id": "d175646a",
   "metadata": {},
   "outputs": [
    {
     "name": "stdout",
     "output_type": "stream",
     "text": [
      "alternative fermion\n",
      "site types: {'0': 'alternative fermion'}\n",
      "----------------------------------------\n",
      "fermion Hubbard\n",
      "site types: {'0': 'fermion'}\n",
      "----------------------------------------\n",
      "Ian's fermion Hubbard\n",
      "site types: {'0': 'fermion'}\n",
      "----------------------------------------\n",
      "spinless fermion\n",
      "site types: {'0': 'spinless fermion'}\n",
      "----------------------------------------\n",
      "alternative t-J\n",
      "site types: {'0': 'alternative t-J'}\n",
      "----------------------------------------\n",
      "spin\n",
      "site types: {'0': 'spin'}\n",
      "----------------------------------------\n",
      "boson\n",
      "site types: {'0': 'boson'}\n",
      "----------------------------------------\n",
      "fermion\n",
      "site types: {'0': 'fermion'}\n",
      "----------------------------------------\n",
      "spinless fermions\n",
      "site types: {'0': 'spinless fermion'}\n",
      "----------------------------------------\n",
      "hardcore boson\n",
      "site types: {'0': 'hardcore boson'}\n",
      "----------------------------------------\n",
      "t-J\n",
      "site types: {'0': 't-J'}\n",
      "----------------------------------------\n",
      "Kondo lattice\n",
      "site types: {'0': 'fermion', '1': 'spin'}\n",
      "----------------------------------------\n",
      "alternative fermion Hubbard\n",
      "site types: {'0': 'alternative fermion'}\n",
      "----------------------------------------\n",
      "boson Hubbard\n",
      "site types: {'0': 'boson'}\n",
      "----------------------------------------\n"
     ]
    }
   ],
   "source": [
    "\n",
    "models = list_operators_in_alps_xml(models_lib_file)\n",
    "\n",
    "for name in models:\n",
    "    print(name)\n",
    "    try:\n",
    "        model = model_from_alps_xml(models_lib_file, name, parms={\"L\":3, \"W\":3, \"a\":1,\"b\":1, \"c\":1, \"Nmax\":5})\n",
    "        print(\"site types:\", {name: lb[\"name\"]  for name, lb in  model.site_basis.items()})\n",
    "    except:\n",
    "        print(\"   load failed\")\n",
    "    print(40*\"-\")"
   ]
  },
  {
   "cell_type": "markdown",
   "id": "4b6d37aa",
   "metadata": {},
   "source": [
    "# Lattices in the library"
   ]
  },
  {
   "cell_type": "code",
   "execution_count": null,
   "id": "834feea7",
   "metadata": {},
   "outputs": [],
   "source": [
    "\n",
    "graphs = list_graph_in_alps_xml(lattice_lib_file)\n",
    "\n",
    "\n",
    "fig = plt.figure(figsize=(20,40))\n",
    "pos = 0\n",
    "rows = (len(graphs)+2) //3\n",
    "for name in graphs:\n",
    "    pos += 1\n",
    "    g = graph_from_alps_xml(lattice_lib_file, name, parms={\"L\":3, \"W\":3, \"a\":1,\"b\":1, \"c\":1})\n",
    "    \n",
    "    if g.lattice and g.lattice[\"dimension\"] > 2:\n",
    "        ax = fig.add_subplot(rows, 3, pos, projection='3d')\n",
    "        ax.set_proj_type(\"persp\")\n",
    "    else:\n",
    "        ax = fig.add_subplot(rows, 3, pos)\n",
    "    ax.set_title(name)\n",
    "    g.draw(ax)\n",
    "plt.show()"
   ]
  },
  {
   "cell_type": "code",
   "execution_count": null,
   "id": "a9efb5c2",
   "metadata": {},
   "outputs": [],
   "source": [
    "# Systems\n",
    "\n",
    "\n",
    "\n",
    "models = list_operators_in_alps_xml(models_lib_file)\n",
    "graphs = list_graph_in_alps_xml(lattice_lib_file)\n",
    "\n",
    "for model_name in models:\n",
    "    print(model_name, \"\\n\", 10*\"*\")\n",
    "    for graph_name in graphs:\n",
    "        g = graph_from_alps_xml(lattice_lib_file, graph_name, parms={\"L\":3, \"W\":3, \"a\":1,\"b\":1, \"c\":1})\n",
    "        model = model_from_alps_xml(models_lib_file, model_name, parms={\"L\":3, \"W\":3, \"a\":1,\"b\":1, \"c\":1, \"Nmax\":5})\n",
    "        try:\n",
    "            system = SystemDescriptor(g, model, {})\n",
    "        except Exception as e:\n",
    "            print(\"   \", graph_name, \"  [Failed]\", e)\n",
    "            continue\n",
    "        print(\"   \", graph_name, \"  [OK]\")\n",
    "    print(\"-------------\")"
   ]
  },
  {
   "cell_type": "code",
   "execution_count": null,
   "id": "5e93ab3c",
   "metadata": {},
   "outputs": [],
   "source": []
  },
  {
   "cell_type": "code",
   "execution_count": null,
   "id": "5fc93c51",
   "metadata": {},
   "outputs": [],
   "source": []
  },
  {
   "cell_type": "code",
   "execution_count": null,
   "id": "317f9eb8",
   "metadata": {},
   "outputs": [],
   "source": []
  },
  {
   "cell_type": "code",
   "execution_count": null,
   "id": "6264cc74",
   "metadata": {},
   "outputs": [],
   "source": []
  }
 ],
 "metadata": {
  "kernelspec": {
   "display_name": "Python 3",
   "language": "python",
   "name": "python3"
  },
  "language_info": {
   "codemirror_mode": {
    "name": "ipython",
    "version": 3
   },
   "file_extension": ".py",
   "mimetype": "text/x-python",
   "name": "python",
   "nbconvert_exporter": "python",
   "pygments_lexer": "ipython3",
   "version": "3.8.15"
  }
 },
 "nbformat": 4,
 "nbformat_minor": 5
}
