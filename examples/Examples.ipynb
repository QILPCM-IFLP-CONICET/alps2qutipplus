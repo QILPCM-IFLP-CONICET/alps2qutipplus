{
 "cells": [
  {
   "cell_type": "code",
   "execution_count": null,
   "id": "716299db",
   "metadata": {},
   "outputs": [],
   "source": [
    "import matplotlib.pyplot as plt\n",
    "\n",
    "from IPython.display import display_latex\n",
    "from alpsqutip.geometry import graph_from_alps_xml, list_graph_in_alps_xml\n",
    "from alpsqutip.alpsmodels import list_operators_in_alps_xml,model_from_alps_xml\n",
    "from alpsqutip.utils import eval_expr\n",
    "\n",
    "from alpsqutip.model import SystemDescriptor\n",
    "\n",
    "models_lib_file = \"../alpsqutip/lib/models.xml\"\n",
    "lattice_lib_file = \"../alpsqutip/lib/lattices.xml\""
   ]
  },
  {
   "cell_type": "code",
   "execution_count": null,
   "id": "aec64216",
   "metadata": {},
   "outputs": [],
   "source": [
    "\n",
    "# Load a system\n",
    "system = SystemDescriptor(\n",
    "    model=model_from_alps_xml(models_lib_file,\"spin\"),\n",
    "    graph=graph_from_alps_xml(lattice_lib_file, \"open square lattice\", parms={\"L\":3, \"a\":1}),\n",
    "    parms={\"h\":1,\"J\":1}\n",
    "         )\n",
    "# enumerate the name of each subsystem\n",
    "sites = [s for s in system.sites]\n",
    "\n",
    "# Build some specific site and bond operators\n",
    "exchange01=system.bond_operator(\"exchange_xy\", sites[0], sites[1])\n",
    "exchange10 =system.bond_operator(\"exchange_xy\", sites[1], sites[0])\n",
    "sz0 = system.site_operator(\"Sz\",sites[0])\n",
    "sz1 = system.site_operator(\"Sz\",sites[1])\n",
    "# Get the Hamiltonian \n",
    "H = system.global_operator(\"Hamiltonian\")\n",
    "\n",
    "# Plot the lattice and the spectrum\n",
    "fig = plt.figure(figsize=(10,5))\n",
    "ax = fig.add_subplot(1, 2, 1)\n",
    "\n",
    "# Convert to qutip and get the spectrum\n",
    "spectrum = H.to_qutip().eigenenergies()\n",
    "ax.scatter(range(len(spectrum)),sorted(spectrum))\n",
    "ax.set_title(\"spectrum\")\n",
    "ax = fig.add_subplot(1, 2, 2, projection='3d')\n",
    "ax.set_title(\"lattice\")\n",
    "system.spec[\"graph\"].draw(ax, node_spec={\"0\":{\"c\":\"lightgreen\",\"s\":100}})\n",
    "system.spec[\"graph\"].subgraph((sites[0],sites[1],sites[3],)).draw(ax, node_spec={\"0\":{\"c\":\"red\",\"s\":30}},\n",
    "                                               edge_spec={\"0\":{\"c\":\"orange\"}})"
   ]
  },
  {
   "cell_type": "code",
   "execution_count": null,
   "id": "6fd93adb",
   "metadata": {},
   "outputs": [],
   "source": [
    "# Load a system\n",
    "system = SystemDescriptor(\n",
    "    model=model_from_alps_xml(models_lib_file,\"spin\"),\n",
    "    graph=graph_from_alps_xml(lattice_lib_file, \"open square lattice\", parms={\"L\":3, \"a\":1}),\n",
    "    parms={\"h\":1,\"J\":1}\n",
    "         )\n",
    "# enumerate the name of each subsystem\n",
    "sites = [s for s in system.sites]\n",
    "\n",
    "s01 = system.subsystem([sites[0],sites[1],sites[3]])\n",
    "# Plot the lattice and the spectrum\n",
    "fig = plt.figure(figsize=(10,5))\n",
    "ax = fig.add_subplot(1, 2, 1)\n",
    "s01.spec[\"graph\"].draw(ax)"
   ]
  },
  {
   "cell_type": "code",
   "execution_count": null,
   "id": "8a439c14",
   "metadata": {},
   "outputs": [],
   "source": [
    "# Read a bond operator and compute its square\n",
    "system.bond_operator(\"exchange\", sites[1], sites[2])**2\n"
   ]
  },
  {
   "cell_type": "code",
   "execution_count": null,
   "id": "c02f7d3f",
   "metadata": {},
   "outputs": [],
   "source": [
    "# Models and local basis\n",
    "models = list_operators_in_alps_xml(models_lib_file)\n",
    "\n",
    "for name in models:\n",
    "    print(name)\n",
    "    try:\n",
    "        model = model_from_alps_xml(models_lib_file, name, parms={\"L\":3, \"W\":3, \"a\":1,\"b\":1, \"c\":1, \"Nmax\":5})\n",
    "        print(\"site types:\", {name: lb[\"name\"]  for name, lb in  model.site_basis.items()})\n",
    "    except:\n",
    "        print(\"   load failed\")\n",
    "    print(40*\"-\")"
   ]
  },
  {
   "cell_type": "markdown",
   "id": "9cdd787b",
   "metadata": {},
   "source": [
    "# Lattices in the library"
   ]
  },
  {
   "cell_type": "code",
   "execution_count": null,
   "id": "c7da6b22",
   "metadata": {},
   "outputs": [],
   "source": [
    "\n",
    "graphs = list_graph_in_alps_xml(lattice_lib_file)\n",
    "\n",
    "\n",
    "fig = plt.figure(figsize=(20,40))\n",
    "pos = 0\n",
    "rows = (len(graphs)+2) //3\n",
    "for name in graphs:\n",
    "    pos += 1\n",
    "    g = graph_from_alps_xml(lattice_lib_file, name, parms={\"L\":3, \"W\":3, \"a\":1,\"b\":1, \"c\":1})\n",
    "    \n",
    "    if g.lattice and g.lattice[\"dimension\"] > 2:\n",
    "        ax = fig.add_subplot(rows, 3, pos, projection='3d')\n",
    "        ax.set_proj_type(\"persp\")\n",
    "    else:\n",
    "        ax = fig.add_subplot(rows, 3, pos)\n",
    "    ax.set_title(name)\n",
    "    g.draw(ax)\n",
    "plt.show()"
   ]
  },
  {
   "cell_type": "code",
   "execution_count": null,
   "id": "d23c4573",
   "metadata": {},
   "outputs": [],
   "source": [
    "# Systems\n",
    "\n",
    "\n",
    "\n",
    "models = list_operators_in_alps_xml(models_lib_file)\n",
    "graphs = list_graph_in_alps_xml(lattice_lib_file)\n",
    "\n",
    "for model_name in models:\n",
    "    print(model_name, \"\\n\", 10*\"*\")\n",
    "    for graph_name in graphs:\n",
    "        g = graph_from_alps_xml(lattice_lib_file, graph_name, parms={\"L\":3, \"W\":3, \"a\":1,\"b\":1, \"c\":1})\n",
    "        model = model_from_alps_xml(models_lib_file, model_name, parms={\"L\":3, \"W\":3, \"a\":1,\"b\":1, \"c\":1, \"Nmax\":5})\n",
    "        try:\n",
    "            system = SystemDescriptor(g, model, {})\n",
    "        except Exception as e:\n",
    "            print(\"   \", graph_name, \"  [Failed]\", e)\n",
    "            continue\n",
    "        print(\"   \", graph_name, \"  [OK]\")\n",
    "    print(\"-------------\")"
   ]
  }
 ],
 "metadata": {
  "kernelspec": {
   "display_name": "Python 3 (ipykernel)",
   "language": "python",
   "name": "python3"
  },
  "language_info": {
   "codemirror_mode": {
    "name": "ipython",
    "version": 3
   },
   "file_extension": ".py",
   "mimetype": "text/x-python",
   "name": "python",
   "nbconvert_exporter": "python",
   "pygments_lexer": "ipython3",
   "version": "3.12.4"
  }
 },
 "nbformat": 4,
 "nbformat_minor": 5
}
